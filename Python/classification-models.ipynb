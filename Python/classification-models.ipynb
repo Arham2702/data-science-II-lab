{
 "cells": [
  {
   "attachments": {},
   "cell_type": "markdown",
   "id": "1536be00",
   "metadata": {
    "papermill": {
     "duration": 0.011078,
     "end_time": "2022-08-20T00:43:33.698846",
     "exception": false,
     "start_time": "2022-08-20T00:43:33.687768",
     "status": "completed"
    },
    "tags": []
   },
   "source": [
    "\n",
    "## ML Classfication "
   ]
  },
  {
   "cell_type": "code",
   "execution_count": 1,
   "id": "dc0b341a",
   "metadata": {
    "execution": {
     "iopub.execute_input": "2022-08-20T00:43:33.716032Z",
     "iopub.status.busy": "2022-08-20T00:43:33.715696Z",
     "iopub.status.idle": "2022-08-20T00:43:35.082099Z",
     "shell.execute_reply": "2022-08-20T00:43:35.081290Z"
    },
    "papermill": {
     "duration": 1.376821,
     "end_time": "2022-08-20T00:43:35.084322",
     "exception": false,
     "start_time": "2022-08-20T00:43:33.707501",
     "status": "completed"
    },
    "tags": []
   },
   "outputs": [],
   "source": [
    "# Data Analysis\n",
    "import pandas as pd\n",
    "import matplotlib.pyplot as plt\n",
    "\n",
    "# Machine Learnig \n",
    "from sklearn.ensemble import RandomForestClassifier, GradientBoostingClassifier, VotingClassifier, AdaBoostClassifier\n",
    "from sklearn.linear_model import LogisticRegression\n",
    "from sklearn.tree import DecisionTreeClassifier\n",
    "from sklearn.neighbors import KNeighborsClassifier\n",
    "from sklearn.neural_network import MLPClassifier\n",
    "from sklearn.model_selection import cross_val_score\n",
    "from sklearn.naive_bayes import GaussianNB, MultinomialNB\n",
    "from sklearn.svm import LinearSVC"
   ]
  },
  {
   "cell_type": "markdown",
   "id": "d6ac6030",
   "metadata": {
    "papermill": {
     "duration": 0.006724,
     "end_time": "2022-08-20T00:43:35.098231",
     "exception": false,
     "start_time": "2022-08-20T00:43:35.091507",
     "status": "completed"
    },
    "tags": []
   },
   "source": [
    "### Aqcuiring the data"
   ]
  },
  {
   "cell_type": "code",
   "execution_count": 2,
   "id": "908fd2df",
   "metadata": {
    "execution": {
     "iopub.execute_input": "2022-08-20T00:43:35.112883Z",
     "iopub.status.busy": "2022-08-20T00:43:35.112576Z",
     "iopub.status.idle": "2022-08-20T00:43:35.140601Z",
     "shell.execute_reply": "2022-08-20T00:43:35.139793Z"
    },
    "papermill": {
     "duration": 0.037477,
     "end_time": "2022-08-20T00:43:35.142446",
     "exception": false,
     "start_time": "2022-08-20T00:43:35.104969",
     "status": "completed"
    },
    "tags": []
   },
   "outputs": [],
   "source": [
    "train = pd.read_csv(\"../input/titanic/train.csv\", index_col = 'PassengerId')"
   ]
  },
  {
   "cell_type": "markdown",
   "id": "4e31f1f1",
   "metadata": {
    "papermill": {
     "duration": 0.006613,
     "end_time": "2022-08-20T00:43:35.156415",
     "exception": false,
     "start_time": "2022-08-20T00:43:35.149802",
     "status": "completed"
    },
    "tags": []
   },
   "source": [
    "### Visualisation of our dataset"
   ]
  },
  {
   "cell_type": "code",
   "execution_count": 3,
   "id": "6504ffc3",
   "metadata": {
    "execution": {
     "iopub.execute_input": "2022-08-20T00:43:35.172831Z",
     "iopub.status.busy": "2022-08-20T00:43:35.172503Z",
     "iopub.status.idle": "2022-08-20T00:43:35.223114Z",
     "shell.execute_reply": "2022-08-20T00:43:35.222156Z"
    },
    "papermill": {
     "duration": 0.061694,
     "end_time": "2022-08-20T00:43:35.225415",
     "exception": false,
     "start_time": "2022-08-20T00:43:35.163721",
     "status": "completed"
    },
    "tags": []
   },
   "outputs": [
    {
     "name": "stdout",
     "output_type": "stream",
     "text": [
      "(891, 11)\n",
      "----------------------------------------\n",
      "<class 'pandas.core.frame.DataFrame'>\n",
      "Int64Index: 891 entries, 1 to 891\n",
      "Data columns (total 11 columns):\n",
      " #   Column    Non-Null Count  Dtype  \n",
      "---  ------    --------------  -----  \n",
      " 0   Survived  891 non-null    int64  \n",
      " 1   Pclass    891 non-null    int64  \n",
      " 2   Name      891 non-null    object \n",
      " 3   Sex       891 non-null    object \n",
      " 4   Age       714 non-null    float64\n",
      " 5   SibSp     891 non-null    int64  \n",
      " 6   Parch     891 non-null    int64  \n",
      " 7   Ticket    891 non-null    object \n",
      " 8   Fare      891 non-null    float64\n",
      " 9   Cabin     204 non-null    object \n",
      " 10  Embarked  889 non-null    object \n",
      "dtypes: float64(2), int64(4), object(5)\n",
      "memory usage: 83.5+ KB\n",
      "None\n",
      "--------------------------------------------------\n",
      "         Survived      Pclass         Age       SibSp       Parch        Fare\n",
      "count  891.000000  891.000000  714.000000  891.000000  891.000000  891.000000\n",
      "mean     0.383838    2.308642   29.699118    0.523008    0.381594   32.204208\n",
      "std      0.486592    0.836071   14.526497    1.102743    0.806057   49.693429\n",
      "min      0.000000    1.000000    0.420000    0.000000    0.000000    0.000000\n",
      "25%      0.000000    2.000000   20.125000    0.000000    0.000000    7.910400\n",
      "50%      0.000000    3.000000   28.000000    0.000000    0.000000   14.454200\n",
      "75%      1.000000    3.000000   38.000000    1.000000    0.000000   31.000000\n",
      "max      1.000000    3.000000   80.000000    8.000000    6.000000  512.329200\n",
      "--------------------------------------------------\n",
      "                           Name   Sex  Ticket    Cabin Embarked\n",
      "count                       891   891     891      204      889\n",
      "unique                      891     2     681      147        3\n",
      "top     Braund, Mr. Owen Harris  male  347082  B96 B98        S\n",
      "freq                          1   577       7        4      644\n",
      "--------------------------------------------------\n",
      "             Survived  Pclass  \\\n",
      "PassengerId                     \n",
      "1                   0       3   \n",
      "2                   1       1   \n",
      "3                   1       3   \n",
      "4                   1       1   \n",
      "5                   0       3   \n",
      "\n",
      "                                                          Name     Sex   Age  \\\n",
      "PassengerId                                                                    \n",
      "1                                      Braund, Mr. Owen Harris    male  22.0   \n",
      "2            Cumings, Mrs. John Bradley (Florence Briggs Th...  female  38.0   \n",
      "3                                       Heikkinen, Miss. Laina  female  26.0   \n",
      "4                 Futrelle, Mrs. Jacques Heath (Lily May Peel)  female  35.0   \n",
      "5                                     Allen, Mr. William Henry    male  35.0   \n",
      "\n",
      "             SibSp  Parch            Ticket     Fare Cabin Embarked  \n",
      "PassengerId                                                          \n",
      "1                1      0         A/5 21171   7.2500   NaN        S  \n",
      "2                1      0          PC 17599  71.2833   C85        C  \n",
      "3                0      0  STON/O2. 3101282   7.9250   NaN        S  \n",
      "4                1      0            113803  53.1000  C123        S  \n",
      "5                0      0            373450   8.0500   NaN        S  \n"
     ]
    }
   ],
   "source": [
    "print(train.shape)\n",
    "print('-'*40)\n",
    "print(train.info())\n",
    "print('-'*50)\n",
    "print(train.describe())\n",
    "print('-'*50)\n",
    "print(train.describe(include=['O']))\n",
    "print('-'*50)\n",
    "print(train.head(5))"
   ]
  },
  {
   "cell_type": "markdown",
   "id": "5cfc6535",
   "metadata": {
    "papermill": {
     "duration": 0.00627,
     "end_time": "2022-08-20T00:43:35.238804",
     "exception": false,
     "start_time": "2022-08-20T00:43:35.232534",
     "status": "completed"
    },
    "tags": []
   },
   "source": [
    "**Missing values detection and imputation**"
   ]
  },
  {
   "cell_type": "code",
   "execution_count": 4,
   "id": "8d7eb69f",
   "metadata": {
    "execution": {
     "iopub.execute_input": "2022-08-20T00:43:35.254692Z",
     "iopub.status.busy": "2022-08-20T00:43:35.254149Z",
     "iopub.status.idle": "2022-08-20T00:43:35.264707Z",
     "shell.execute_reply": "2022-08-20T00:43:35.263783Z"
    },
    "papermill": {
     "duration": 0.020318,
     "end_time": "2022-08-20T00:43:35.266640",
     "exception": false,
     "start_time": "2022-08-20T00:43:35.246322",
     "status": "completed"
    },
    "tags": []
   },
   "outputs": [
    {
     "data": {
      "text/plain": [
       "Cabin       77.104377\n",
       "Age         19.865320\n",
       "Embarked     0.224467\n",
       "Survived     0.000000\n",
       "Pclass       0.000000\n",
       "Name         0.000000\n",
       "Sex          0.000000\n",
       "SibSp        0.000000\n",
       "Parch        0.000000\n",
       "Ticket       0.000000\n",
       "Fare         0.000000\n",
       "dtype: float64"
      ]
     },
     "execution_count": 4,
     "metadata": {},
     "output_type": "execute_result"
    }
   ],
   "source": [
    "(train.isnull().sum().sort_values(ascending=False)*100)/train.shape[0]"
   ]
  },
  {
   "cell_type": "markdown",
   "id": "05c9d74a",
   "metadata": {
    "papermill": {
     "duration": 0.00715,
     "end_time": "2022-08-20T00:43:35.281104",
     "exception": false,
     "start_time": "2022-08-20T00:43:35.273954",
     "status": "completed"
    },
    "tags": []
   },
   "source": [
    "* _Cabin_ variable contains **77.10%** of missing values so its can be said to be useless for us, so it will droped.\n",
    "* _Age_ variable contains **19.87%** of missing values and so can be imputed using a chosen method\n",
    "* Lastly the _Embarked_ variable contain less than **1%** of missing values so can easily be imputed using a choosen methode."
   ]
  },
  {
   "cell_type": "code",
   "execution_count": 5,
   "id": "8fa8fbf4",
   "metadata": {
    "execution": {
     "iopub.execute_input": "2022-08-20T00:43:35.296828Z",
     "iopub.status.busy": "2022-08-20T00:43:35.296473Z",
     "iopub.status.idle": "2022-08-20T00:43:35.302599Z",
     "shell.execute_reply": "2022-08-20T00:43:35.301158Z"
    },
    "papermill": {
     "duration": 0.016186,
     "end_time": "2022-08-20T00:43:35.304471",
     "exception": false,
     "start_time": "2022-08-20T00:43:35.288285",
     "status": "completed"
    },
    "tags": []
   },
   "outputs": [],
   "source": [
    "#deleting of un needed columns\n",
    "train.drop(['Cabin','Ticket','Name'], axis=1 ,inplace=True)"
   ]
  },
  {
   "cell_type": "code",
   "execution_count": 6,
   "id": "a952fff2",
   "metadata": {
    "execution": {
     "iopub.execute_input": "2022-08-20T00:43:35.319696Z",
     "iopub.status.busy": "2022-08-20T00:43:35.319374Z",
     "iopub.status.idle": "2022-08-20T00:43:35.325233Z",
     "shell.execute_reply": "2022-08-20T00:43:35.324405Z"
    },
    "papermill": {
     "duration": 0.015548,
     "end_time": "2022-08-20T00:43:35.327096",
     "exception": false,
     "start_time": "2022-08-20T00:43:35.311548",
     "status": "completed"
    },
    "tags": []
   },
   "outputs": [],
   "source": [
    "#Imputing missing values for Age variable with the mean\n",
    "\n",
    "train.Age = train.Age.fillna(train.Age.median())"
   ]
  },
  {
   "cell_type": "code",
   "execution_count": 7,
   "id": "fe2d91c3",
   "metadata": {
    "execution": {
     "iopub.execute_input": "2022-08-20T00:43:35.343818Z",
     "iopub.status.busy": "2022-08-20T00:43:35.342630Z",
     "iopub.status.idle": "2022-08-20T00:43:35.356959Z",
     "shell.execute_reply": "2022-08-20T00:43:35.356025Z"
    },
    "papermill": {
     "duration": 0.02462,
     "end_time": "2022-08-20T00:43:35.358740",
     "exception": false,
     "start_time": "2022-08-20T00:43:35.334120",
     "status": "completed"
    },
    "tags": []
   },
   "outputs": [],
   "source": [
    "#Imputing missing values for Embarked variable with the most frequent\n",
    "\n",
    "train = train.apply(lambda x:x.fillna(x.value_counts().index[0]))"
   ]
  },
  {
   "cell_type": "markdown",
   "id": "386ab153",
   "metadata": {
    "papermill": {
     "duration": 0.006377,
     "end_time": "2022-08-20T00:43:35.372040",
     "exception": false,
     "start_time": "2022-08-20T00:43:35.365663",
     "status": "completed"
    },
    "tags": []
   },
   "source": [
    "### Transforming the qualitatives variables into quantitative"
   ]
  },
  {
   "cell_type": "code",
   "execution_count": 8,
   "id": "c9bbd1f9",
   "metadata": {
    "execution": {
     "iopub.execute_input": "2022-08-20T00:43:35.387381Z",
     "iopub.status.busy": "2022-08-20T00:43:35.386847Z",
     "iopub.status.idle": "2022-08-20T00:43:35.401120Z",
     "shell.execute_reply": "2022-08-20T00:43:35.400528Z"
    },
    "papermill": {
     "duration": 0.023842,
     "end_time": "2022-08-20T00:43:35.402680",
     "exception": false,
     "start_time": "2022-08-20T00:43:35.378838",
     "status": "completed"
    },
    "tags": []
   },
   "outputs": [
    {
     "data": {
      "text/html": [
       "<div>\n",
       "<style scoped>\n",
       "    .dataframe tbody tr th:only-of-type {\n",
       "        vertical-align: middle;\n",
       "    }\n",
       "\n",
       "    .dataframe tbody tr th {\n",
       "        vertical-align: top;\n",
       "    }\n",
       "\n",
       "    .dataframe thead th {\n",
       "        text-align: right;\n",
       "    }\n",
       "</style>\n",
       "<table border=\"1\" class=\"dataframe\">\n",
       "  <thead>\n",
       "    <tr style=\"text-align: right;\">\n",
       "      <th></th>\n",
       "      <th>Survived</th>\n",
       "      <th>Pclass</th>\n",
       "      <th>Sex</th>\n",
       "      <th>Age</th>\n",
       "      <th>SibSp</th>\n",
       "      <th>Parch</th>\n",
       "      <th>Fare</th>\n",
       "      <th>Embarked</th>\n",
       "    </tr>\n",
       "    <tr>\n",
       "      <th>PassengerId</th>\n",
       "      <th></th>\n",
       "      <th></th>\n",
       "      <th></th>\n",
       "      <th></th>\n",
       "      <th></th>\n",
       "      <th></th>\n",
       "      <th></th>\n",
       "      <th></th>\n",
       "    </tr>\n",
       "  </thead>\n",
       "  <tbody>\n",
       "    <tr>\n",
       "      <th>1</th>\n",
       "      <td>0</td>\n",
       "      <td>3</td>\n",
       "      <td>0</td>\n",
       "      <td>22.0</td>\n",
       "      <td>1</td>\n",
       "      <td>0</td>\n",
       "      <td>7.2500</td>\n",
       "      <td>2</td>\n",
       "    </tr>\n",
       "    <tr>\n",
       "      <th>2</th>\n",
       "      <td>1</td>\n",
       "      <td>1</td>\n",
       "      <td>1</td>\n",
       "      <td>38.0</td>\n",
       "      <td>1</td>\n",
       "      <td>0</td>\n",
       "      <td>71.2833</td>\n",
       "      <td>1</td>\n",
       "    </tr>\n",
       "    <tr>\n",
       "      <th>3</th>\n",
       "      <td>1</td>\n",
       "      <td>3</td>\n",
       "      <td>1</td>\n",
       "      <td>26.0</td>\n",
       "      <td>0</td>\n",
       "      <td>0</td>\n",
       "      <td>7.9250</td>\n",
       "      <td>2</td>\n",
       "    </tr>\n",
       "    <tr>\n",
       "      <th>4</th>\n",
       "      <td>1</td>\n",
       "      <td>1</td>\n",
       "      <td>1</td>\n",
       "      <td>35.0</td>\n",
       "      <td>1</td>\n",
       "      <td>0</td>\n",
       "      <td>53.1000</td>\n",
       "      <td>2</td>\n",
       "    </tr>\n",
       "    <tr>\n",
       "      <th>5</th>\n",
       "      <td>0</td>\n",
       "      <td>3</td>\n",
       "      <td>0</td>\n",
       "      <td>35.0</td>\n",
       "      <td>0</td>\n",
       "      <td>0</td>\n",
       "      <td>8.0500</td>\n",
       "      <td>2</td>\n",
       "    </tr>\n",
       "  </tbody>\n",
       "</table>\n",
       "</div>"
      ],
      "text/plain": [
       "             Survived  Pclass  Sex   Age  SibSp  Parch     Fare  Embarked\n",
       "PassengerId                                                              \n",
       "1                   0       3    0  22.0      1      0   7.2500         2\n",
       "2                   1       1    1  38.0      1      0  71.2833         1\n",
       "3                   1       3    1  26.0      0      0   7.9250         2\n",
       "4                   1       1    1  35.0      1      0  53.1000         2\n",
       "5                   0       3    0  35.0      0      0   8.0500         2"
      ]
     },
     "execution_count": 8,
     "metadata": {},
     "output_type": "execute_result"
    }
   ],
   "source": [
    "train['Sex'] = train['Sex'].map( {'female': 1, 'male': 0} ).astype(int)\n",
    "train['Embarked'] = train['Embarked'].map( {'Q': 0, 'C': 1,'S':2} ).astype(int)\n",
    "train.head()"
   ]
  },
  {
   "cell_type": "markdown",
   "id": "db63079c",
   "metadata": {
    "papermill": {
     "duration": 0.006849,
     "end_time": "2022-08-20T00:43:35.416780",
     "exception": false,
     "start_time": "2022-08-20T00:43:35.409931",
     "status": "completed"
    },
    "tags": []
   },
   "source": [
    "#### Spliting our data"
   ]
  },
  {
   "cell_type": "code",
   "execution_count": 9,
   "id": "a36f77e6",
   "metadata": {
    "execution": {
     "iopub.execute_input": "2022-08-20T00:43:35.432004Z",
     "iopub.status.busy": "2022-08-20T00:43:35.431675Z",
     "iopub.status.idle": "2022-08-20T00:43:35.436261Z",
     "shell.execute_reply": "2022-08-20T00:43:35.435732Z"
    },
    "papermill": {
     "duration": 0.014523,
     "end_time": "2022-08-20T00:43:35.438181",
     "exception": false,
     "start_time": "2022-08-20T00:43:35.423658",
     "status": "completed"
    },
    "tags": []
   },
   "outputs": [],
   "source": [
    "X = train.drop('Survived',axis=1)\n",
    "y = train['Survived']"
   ]
  },
  {
   "cell_type": "markdown",
   "id": "f165a6da",
   "metadata": {
    "papermill": {
     "duration": 0.006612,
     "end_time": "2022-08-20T00:43:35.452065",
     "exception": false,
     "start_time": "2022-08-20T00:43:35.445453",
     "status": "completed"
    },
    "tags": []
   },
   "source": [
    "## Time to train and compare our models!!!"
   ]
  },
  {
   "attachments": {},
   "cell_type": "markdown",
   "id": "97551a00",
   "metadata": {
    "papermill": {
     "duration": 0.006587,
     "end_time": "2022-08-20T00:43:35.465467",
     "exception": false,
     "start_time": "2022-08-20T00:43:35.458880",
     "status": "completed"
    },
    "tags": []
   },
   "source": [
    "### 1 . Logistique Regression"
   ]
  },
  {
   "cell_type": "code",
   "execution_count": 10,
   "id": "0d5c73f6",
   "metadata": {
    "execution": {
     "iopub.execute_input": "2022-08-20T00:43:35.480895Z",
     "iopub.status.busy": "2022-08-20T00:43:35.480454Z",
     "iopub.status.idle": "2022-08-20T00:43:35.679541Z",
     "shell.execute_reply": "2022-08-20T00:43:35.678610Z"
    },
    "papermill": {
     "duration": 0.208935,
     "end_time": "2022-08-20T00:43:35.681268",
     "exception": false,
     "start_time": "2022-08-20T00:43:35.472333",
     "status": "completed"
    },
    "tags": []
   },
   "outputs": [
    {
     "name": "stdout",
     "output_type": "stream",
     "text": [
      "0.7957388191763193 0.030352610644971884\n"
     ]
    }
   ],
   "source": [
    "lr = LogisticRegression(max_iter=500)\n",
    "scores_lr = cross_val_score(lr, X, y, cv = 8)\n",
    "print(scores_lr.mean(), scores_lr.std())"
   ]
  },
  {
   "attachments": {},
   "cell_type": "markdown",
   "id": "c3ecfc74",
   "metadata": {
    "papermill": {
     "duration": 0.00955,
     "end_time": "2022-08-20T00:43:35.701235",
     "exception": false,
     "start_time": "2022-08-20T00:43:35.691685",
     "status": "completed"
    },
    "tags": []
   },
   "source": [
    "### 2 . Naive Bayes\n"
   ]
  },
  {
   "cell_type": "code",
   "execution_count": 11,
   "id": "892483a2",
   "metadata": {
    "execution": {
     "iopub.execute_input": "2022-08-20T00:43:35.719519Z",
     "iopub.status.busy": "2022-08-20T00:43:35.718583Z",
     "iopub.status.idle": "2022-08-20T00:43:35.757362Z",
     "shell.execute_reply": "2022-08-20T00:43:35.755845Z"
    },
    "papermill": {
     "duration": 0.050497,
     "end_time": "2022-08-20T00:43:35.759158",
     "exception": false,
     "start_time": "2022-08-20T00:43:35.708661",
     "status": "completed"
    },
    "tags": []
   },
   "outputs": [
    {
     "name": "stdout",
     "output_type": "stream",
     "text": [
      "0.7856640122265122 0.017795028027115446\n"
     ]
    }
   ],
   "source": [
    "nb = GaussianNB()\n",
    "scores_nb = cross_val_score(nb, X, y, cv = 8)\n",
    "print(scores_nb.mean(), scores_nb.std())"
   ]
  },
  {
   "attachments": {},
   "cell_type": "markdown",
   "id": "45232e49",
   "metadata": {
    "papermill": {
     "duration": 0.006808,
     "end_time": "2022-08-20T00:43:35.773292",
     "exception": false,
     "start_time": "2022-08-20T00:43:35.766484",
     "status": "completed"
    },
    "tags": []
   },
   "source": [
    "### 3 . KNN\n"
   ]
  },
  {
   "cell_type": "code",
   "execution_count": 12,
   "id": "7f4f8bba",
   "metadata": {
    "execution": {
     "iopub.execute_input": "2022-08-20T00:43:35.789229Z",
     "iopub.status.busy": "2022-08-20T00:43:35.788714Z",
     "iopub.status.idle": "2022-08-20T00:43:35.850453Z",
     "shell.execute_reply": "2022-08-20T00:43:35.849486Z"
    },
    "papermill": {
     "duration": 0.0724,
     "end_time": "2022-08-20T00:43:35.852713",
     "exception": false,
     "start_time": "2022-08-20T00:43:35.780313",
     "status": "completed"
    },
    "tags": []
   },
   "outputs": [
    {
     "name": "stdout",
     "output_type": "stream",
     "text": [
      "0.6937238577863578 0.04246311865876194\n"
     ]
    }
   ],
   "source": [
    "knn = KNeighborsClassifier()\n",
    "scores_knn = cross_val_score(knn, X, y, cv = 8)\n",
    "print(scores_knn.mean(), scores_knn.std())"
   ]
  },
  {
   "attachments": {},
   "cell_type": "markdown",
   "id": "a5412b13",
   "metadata": {
    "papermill": {
     "duration": 0.007436,
     "end_time": "2022-08-20T00:43:35.867972",
     "exception": false,
     "start_time": "2022-08-20T00:43:35.860536",
     "status": "completed"
    },
    "tags": []
   },
   "source": [
    "### 4 . Random Forest\n"
   ]
  },
  {
   "cell_type": "code",
   "execution_count": 13,
   "id": "99417648",
   "metadata": {
    "execution": {
     "iopub.execute_input": "2022-08-20T00:43:35.884829Z",
     "iopub.status.busy": "2022-08-20T00:43:35.884526Z",
     "iopub.status.idle": "2022-08-20T00:43:38.642941Z",
     "shell.execute_reply": "2022-08-20T00:43:38.641485Z"
    },
    "papermill": {
     "duration": 2.770361,
     "end_time": "2022-08-20T00:43:38.646191",
     "exception": false,
     "start_time": "2022-08-20T00:43:35.875830",
     "status": "completed"
    },
    "tags": []
   },
   "outputs": [
    {
     "name": "stdout",
     "output_type": "stream",
     "text": [
      "0.8350187435757905 0.034204732155653644\n"
     ]
    }
   ],
   "source": [
    "rand = RandomForestClassifier(n_estimators=300, max_depth=10)\n",
    "scores_rand = cross_val_score(rand, X, y, cv = 6)\n",
    "print(scores_rand.mean(), scores_rand.std())"
   ]
  },
  {
   "attachments": {},
   "cell_type": "markdown",
   "id": "82d39e03",
   "metadata": {
    "papermill": {
     "duration": 0.007174,
     "end_time": "2022-08-20T00:43:38.661992",
     "exception": false,
     "start_time": "2022-08-20T00:43:38.654818",
     "status": "completed"
    },
    "tags": []
   },
   "source": [
    "### 5 . Decision Tree\n"
   ]
  },
  {
   "cell_type": "code",
   "execution_count": 14,
   "id": "c77fc69e",
   "metadata": {
    "execution": {
     "iopub.execute_input": "2022-08-20T00:43:38.679831Z",
     "iopub.status.busy": "2022-08-20T00:43:38.679364Z",
     "iopub.status.idle": "2022-08-20T00:43:38.713568Z",
     "shell.execute_reply": "2022-08-20T00:43:38.712515Z"
    },
    "papermill": {
     "duration": 0.046168,
     "end_time": "2022-08-20T00:43:38.715789",
     "exception": false,
     "start_time": "2022-08-20T00:43:38.669621",
     "status": "completed"
    },
    "tags": []
   },
   "outputs": [
    {
     "name": "stdout",
     "output_type": "stream",
     "text": [
      "0.7811914263256545 0.040613841776691556\n"
     ]
    }
   ],
   "source": [
    "tr = DecisionTreeClassifier()\n",
    "scores_tr = cross_val_score(tr, X, y, cv = 6)\n",
    "print(scores_tr.mean(), scores_tr.std())"
   ]
  }
 ],
 "metadata": {
  "kernelspec": {
   "display_name": "Python 3",
   "language": "python",
   "name": "python3"
  },
  "language_info": {
   "codemirror_mode": {
    "name": "ipython",
    "version": 3
   },
   "file_extension": ".py",
   "mimetype": "text/x-python",
   "name": "python",
   "nbconvert_exporter": "python",
   "pygments_lexer": "ipython3",
   "version": "3.7.12"
  },
  "papermill": {
   "default_parameters": {},
   "duration": 28.571741,
   "end_time": "2022-08-20T00:43:53.540697",
   "environment_variables": {},
   "exception": null,
   "input_path": "__notebook__.ipynb",
   "output_path": "__notebook__.ipynb",
   "parameters": {},
   "start_time": "2022-08-20T00:43:24.968956",
   "version": "2.3.4"
  }
 },
 "nbformat": 4,
 "nbformat_minor": 5
}
